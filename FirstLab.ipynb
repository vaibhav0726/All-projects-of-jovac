{
  "nbformat": 4,
  "nbformat_minor": 0,
  "metadata": {
    "colab": {
      "name": "FirstLab.ipynb",
      "provenance": [],
      "authorship_tag": "ABX9TyNiirctdH0/K6i7XahcWwFf",
      "include_colab_link": true
    },
    "kernelspec": {
      "name": "python3",
      "display_name": "Python 3"
    },
    "language_info": {
      "name": "python"
    }
  },
  "cells": [
    {
      "cell_type": "markdown",
      "metadata": {
        "id": "view-in-github",
        "colab_type": "text"
      },
      "source": [
        "<a href=\"https://colab.research.google.com/github/vaibhav0726/All-projects-of-jovac/blob/main/FirstLab.ipynb\" target=\"_parent\"><img src=\"https://colab.research.google.com/assets/colab-badge.svg\" alt=\"Open In Colab\"/></a>"
      ]
    },
    {
      "cell_type": "code",
      "execution_count": 1,
      "metadata": {
        "id": "oPYmuyvC81v7"
      },
      "outputs": [],
      "source": [
        "import numpy as np"
      ]
    },
    {
      "cell_type": "code",
      "source": [
        "a = np.array([1,2,3,4])"
      ],
      "metadata": {
        "id": "OpzfD22Y9Cj_"
      },
      "execution_count": 4,
      "outputs": []
    },
    {
      "cell_type": "code",
      "source": [
        "print(a)"
      ],
      "metadata": {
        "colab": {
          "base_uri": "https://localhost:8080/"
        },
        "id": "HHLfgrnF9GuO",
        "outputId": "a4ce3894-4543-402a-87ed-8bac7ac5c7f3"
      },
      "execution_count": 5,
      "outputs": [
        {
          "output_type": "stream",
          "name": "stdout",
          "text": [
            "[1 2 3 4]\n"
          ]
        }
      ]
    },
    {
      "cell_type": "code",
      "source": [
        "my_list = [[10,20,30,40],[50,60,70,80]]"
      ],
      "metadata": {
        "id": "BXz_WsKT9I02"
      },
      "execution_count": 12,
      "outputs": []
    },
    {
      "cell_type": "code",
      "source": [
        "a = np.array(my_list)"
      ],
      "metadata": {
        "id": "kHzLAxYD9VxY"
      },
      "execution_count": 14,
      "outputs": []
    },
    {
      "cell_type": "code",
      "source": [
        "print(a)  # printing a \n",
        "print(type(a))  # class name in numpy\n",
        "print(a.shape)  # shape of list(m*n)\n",
        "print(a.dtype)  # data type\n",
        "print(a.size) # total number of elements\n",
        "print(a.ndim) # number of dimensions"
      ],
      "metadata": {
        "colab": {
          "base_uri": "https://localhost:8080/"
        },
        "id": "f0Negh_p9jg9",
        "outputId": "7dbaae5d-f9a1-4920-efef-2c7c5e82e0e6"
      },
      "execution_count": 16,
      "outputs": [
        {
          "output_type": "stream",
          "name": "stdout",
          "text": [
            "[[10 20 30 40]\n",
            " [50 60 70 80]]\n",
            "<class 'numpy.ndarray'>\n",
            "(2, 4)\n",
            "int64\n",
            "8\n",
            "2\n"
          ]
        }
      ]
    },
    {
      "cell_type": "code",
      "source": [],
      "metadata": {
        "id": "bTvYCB5O9Y1p"
      },
      "execution_count": null,
      "outputs": []
    }
  ]
}